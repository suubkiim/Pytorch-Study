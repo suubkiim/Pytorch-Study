{
  "nbformat": 4,
  "nbformat_minor": 0,
  "metadata": {
    "colab": {
      "name": "RNN",
      "provenance": [],
      "include_colab_link": true
    },
    "kernelspec": {
      "name": "python3",
      "display_name": "Python 3"
    },
    "accelerator": "GPU"
  },
  "cells": [
    {
      "cell_type": "markdown",
      "metadata": {
        "id": "view-in-github",
        "colab_type": "text"
      },
      "source": [
        "<a href=\"https://colab.research.google.com/github/suubkiim/Pytorch-practice/blob/master/RNN.ipynb\" target=\"_parent\"><img src=\"https://colab.research.google.com/assets/colab-badge.svg\" alt=\"Open In Colab\"/></a>"
      ]
    },
    {
      "cell_type": "markdown",
      "metadata": {
        "id": "9qKkpQPkvHpr",
        "colab_type": "text"
      },
      "source": [
        "* RNN vs LSTM\n",
        "![대체 텍스트](https://jaydottechdotblog.files.wordpress.com/2017/01/lrcns-rnn-lstm-diagram.png)\n",
        "\n",
        "> http://blog.naver.com/PostView.nhn?blogId=koys007&logNo=221528966460&? parentCategoryNo=&categoryNo=64&viewDate=&isShowPopularPosts=true&from=search\n",
        "\n",
        "* RNN 이해 _ 블록 설명\n",
        "\n",
        "> https://tykimos.github.io/2017/04/09/RNN_Getting_Started/"
      ]
    },
    {
      "cell_type": "code",
      "metadata": {
        "id": "3ud2xFL6YMuX",
        "colab_type": "code",
        "outputId": "cba991cc-6235-4856-a536-57f1c5b74b06",
        "colab": {
          "base_uri": "https://localhost:8080/",
          "height": 523
        }
      },
      "source": [
        "import torch \n",
        "import torch.nn as nn\n",
        "import torchvision\n",
        "import torchvision.transforms as transforms\n",
        "\n",
        "\n",
        "# Device configuration\n",
        "device = torch.device('cuda' if torch.cuda.is_available() else 'cpu')\n",
        "\n",
        "# Hyper-parameters\n",
        "sequence_length = 28 #  MNIST 데이터에서는 행 크기 28 \n",
        "input_size = 28 # MNIST 데이터에서는 열 1개 크기 28X1 \n",
        "hidden_size = 128 # 28X1이 들어가서 128X1이 됨\n",
        "num_layers = 2\n",
        "num_classes = 10\n",
        "batch_size = 100\n",
        "num_epochs = 2\n",
        "learning_rate = 0.01\n",
        "#input size는 몇개의 input을 한번에 받을 것인지, \n",
        "#hidden size는 몇개의 output을 내보낼 것인지를 의미합니다.\n",
        "\n",
        "# MNIST dataset\n",
        "train_dataset = torchvision.datasets.MNIST(root='../../data/',\n",
        "                                           train=True, \n",
        "                                           transform=transforms.ToTensor(),\n",
        "                                           download=True)\n",
        "\n",
        "test_dataset = torchvision.datasets.MNIST(root='../../data/',\n",
        "                                          train=False, \n",
        "                                          transform=transforms.ToTensor())\n",
        "\n",
        "# Data loader\n",
        "train_loader = torch.utils.data.DataLoader(dataset=train_dataset,\n",
        "                                           batch_size=batch_size, \n",
        "                                           shuffle=True)\n",
        "\n",
        "test_loader = torch.utils.data.DataLoader(dataset=test_dataset,\n",
        "                                          batch_size=batch_size, \n",
        "                                          shuffle=False)\n",
        "\n",
        "# Recurrent neural network (many-to-one)\n",
        "class RNN(nn.Module):\n",
        "    def __init__(self, input_size, hidden_size, num_layers, num_classes):\n",
        "        super(RNN, self).__init__()\n",
        "        self.hidden_size = hidden_size\n",
        "        self.num_layers = num_layers\n",
        "        self.lstm = nn.LSTM(input_size, hidden_size, num_layers, batch_first=True)\n",
        "        self.fc = nn.Linear(hidden_size, num_classes)\n",
        "    \n",
        "    def forward(self, x):\n",
        "        # Set initial hidden and cell states \n",
        "        h0 = torch.zeros(self.num_layers, x.size(0), self.hidden_size).to(device) \n",
        "        c0 = torch.zeros(self.num_layers, x.size(0), self.hidden_size).to(device) # 2x 100x 128 = #layer x #batch x #hidden size\n",
        "        \n",
        "        # Forward propagate LSTM\n",
        "        out, _ = self.lstm(x, (h0, c0))  # out: tensor of shape (batch_size, seq_length, hidden_size) \n",
        "        \n",
        "        # (h0, c0) 문법 설명 : https://pytorch.org/docs/stable/nn.html\n",
        "        # c 는 cell state , 총 128 개 --> sequence length가 28 이므로\n",
        "\n",
        "        # Decode the hidden state of the last time step\n",
        "        out = self.fc(out[:, -1, :])    # -1에 해당하는 부분만 남음 100 *128 이 남음\n",
        "        #100, 28, 128\n",
        "\n",
        "        return out\n",
        "\n",
        "model = RNN(input_size, hidden_size, num_layers, num_classes).to(device)\n",
        "\n",
        "\n",
        "# Loss and optimizer\n",
        "criterion = nn.CrossEntropyLoss()\n",
        "optimizer = torch.optim.Adam(model.parameters(), lr=learning_rate)\n",
        "\n",
        "# Train the model\n",
        "total_step = len(train_loader)\n",
        "for epoch in range(num_epochs):\n",
        "    for i, (images, labels) in enumerate(train_loader):\n",
        "        images = images.reshape(-1, sequence_length, input_size).to(device)\n",
        "        labels = labels.to(device)\n",
        "        \n",
        "        # Forward pass\n",
        "        outputs = model(images) # 인자수 1개이므로 forward 실행\n",
        "        loss = criterion(outputs, labels)\n",
        "        \n",
        "        # Backward and optimize\n",
        "        optimizer.zero_grad()\n",
        "        loss.backward()\n",
        "        optimizer.step()\n",
        "        \n",
        "        if (i+1) % 100 == 0:\n",
        "            print ('Epoch [{}/{}], Step [{}/{}], Loss: {:.4f}' \n",
        "                   .format(epoch+1, num_epochs, i+1, total_step, loss.item()))\n",
        "\n",
        "# Test the model\n",
        "with torch.no_grad():\n",
        "    correct = 0\n",
        "    total = 0\n",
        "    for images, labels in test_loader:\n",
        "        images = images.reshape(-1, sequence_length, input_size).to(device)\n",
        "        labels = labels.to(device)\n",
        "        outputs = model(images)\n",
        "        _, predicted = torch.max(outputs.data, 1)\n",
        "        total += labels.size(0)\n",
        "        correct += (predicted == labels).sum().item()\n",
        "\n",
        "    print('Test Accuracy of the model on the 10000 test images: {} %'.format(100 * correct / total)) \n",
        "\n",
        "# Save the model checkpoint\n",
        "torch.save(model.state_dict(), 'model.ckpt')"
      ],
      "execution_count": 0,
      "outputs": [
        {
          "output_type": "stream",
          "text": [
            "\r0it [00:00, ?it/s]"
          ],
          "name": "stderr"
        },
        {
          "output_type": "stream",
          "text": [
            "Downloading http://yann.lecun.com/exdb/mnist/train-images-idx3-ubyte.gz to ../../data/MNIST/raw/train-images-idx3-ubyte.gz\n"
          ],
          "name": "stdout"
        },
        {
          "output_type": "stream",
          "text": [
            "9920512it [00:01, 9791965.00it/s]                            \n"
          ],
          "name": "stderr"
        },
        {
          "output_type": "stream",
          "text": [
            "Extracting ../../data/MNIST/raw/train-images-idx3-ubyte.gz to ../../data/MNIST/raw\n"
          ],
          "name": "stdout"
        },
        {
          "output_type": "stream",
          "text": [
            "  0%|          | 0/28881 [00:00<?, ?it/s]"
          ],
          "name": "stderr"
        },
        {
          "output_type": "stream",
          "text": [
            "Downloading http://yann.lecun.com/exdb/mnist/train-labels-idx1-ubyte.gz to ../../data/MNIST/raw/train-labels-idx1-ubyte.gz\n"
          ],
          "name": "stdout"
        },
        {
          "output_type": "stream",
          "text": [
            "32768it [00:00, 140862.04it/s]           \n",
            "  0%|          | 0/1648877 [00:00<?, ?it/s]"
          ],
          "name": "stderr"
        },
        {
          "output_type": "stream",
          "text": [
            "Extracting ../../data/MNIST/raw/train-labels-idx1-ubyte.gz to ../../data/MNIST/raw\n",
            "Downloading http://yann.lecun.com/exdb/mnist/t10k-images-idx3-ubyte.gz to ../../data/MNIST/raw/t10k-images-idx3-ubyte.gz\n"
          ],
          "name": "stdout"
        },
        {
          "output_type": "stream",
          "text": [
            "1654784it [00:00, 2491321.47it/s]                           \n",
            "0it [00:00, ?it/s]"
          ],
          "name": "stderr"
        },
        {
          "output_type": "stream",
          "text": [
            "Extracting ../../data/MNIST/raw/t10k-images-idx3-ubyte.gz to ../../data/MNIST/raw\n",
            "Downloading http://yann.lecun.com/exdb/mnist/t10k-labels-idx1-ubyte.gz to ../../data/MNIST/raw/t10k-labels-idx1-ubyte.gz\n"
          ],
          "name": "stdout"
        },
        {
          "output_type": "stream",
          "text": [
            "8192it [00:00, 51898.69it/s]            \n"
          ],
          "name": "stderr"
        },
        {
          "output_type": "stream",
          "text": [
            "Extracting ../../data/MNIST/raw/t10k-labels-idx1-ubyte.gz to ../../data/MNIST/raw\n",
            "Processing...\n",
            "Done!\n",
            "Epoch [1/2], Step [100/600], Loss: 0.6422\n",
            "Epoch [1/2], Step [200/600], Loss: 0.4340\n",
            "Epoch [1/2], Step [300/600], Loss: 0.2109\n",
            "Epoch [1/2], Step [400/600], Loss: 0.2234\n",
            "Epoch [1/2], Step [500/600], Loss: 0.2379\n",
            "Epoch [1/2], Step [600/600], Loss: 0.2759\n",
            "Epoch [2/2], Step [100/600], Loss: 0.0967\n",
            "Epoch [2/2], Step [200/600], Loss: 0.1404\n",
            "Epoch [2/2], Step [300/600], Loss: 0.0886\n",
            "Epoch [2/2], Step [400/600], Loss: 0.1096\n",
            "Epoch [2/2], Step [500/600], Loss: 0.0705\n",
            "Epoch [2/2], Step [600/600], Loss: 0.0610\n",
            "Test Accuracy of the model on the 10000 test images: 97.34 %\n"
          ],
          "name": "stdout"
        }
      ]
    },
    {
      "cell_type": "code",
      "metadata": {
        "id": "dXYvXEHbBdTg",
        "colab_type": "code",
        "outputId": "bb392d5c-f423-431d-c459-65d40824f16d",
        "colab": {
          "base_uri": "https://localhost:8080/",
          "height": 355
        }
      },
      "source": [
        "import torch \n",
        "\n",
        "out = torch.tensor([[[4,2,3],[1,5,6],[2,8,9]],[[0,2,0],[3,5,7],[9,8,10]]])\n",
        "print('original\\n',out)\n",
        "print(out.size())\n",
        "print(out[-1, :,:])\n",
        "print(out[-1, :,:].size())\n",
        "print(out[:, -1, :])\n",
        "print(out[:, -1, :].size())\n",
        "print(out[:, :,-2])\n",
        "print(out[:, :,-2].size())"
      ],
      "execution_count": 2,
      "outputs": [
        {
          "output_type": "stream",
          "text": [
            "original\n",
            " tensor([[[ 4,  2,  3],\n",
            "         [ 1,  5,  6],\n",
            "         [ 2,  8,  9]],\n",
            "\n",
            "        [[ 0,  2,  0],\n",
            "         [ 3,  5,  7],\n",
            "         [ 9,  8, 10]]])\n",
            "torch.Size([2, 3, 3])\n",
            "tensor([[ 0,  2,  0],\n",
            "        [ 3,  5,  7],\n",
            "        [ 9,  8, 10]])\n",
            "torch.Size([3, 3])\n",
            "tensor([[ 2,  8,  9],\n",
            "        [ 9,  8, 10]])\n",
            "torch.Size([2, 3])\n",
            "tensor([[2, 5, 8],\n",
            "        [2, 5, 8]])\n",
            "torch.Size([2, 3])\n"
          ],
          "name": "stdout"
        }
      ]
    },
    {
      "cell_type": "code",
      "metadata": {
        "id": "M8HGBVmXttGS",
        "colab_type": "code",
        "colab": {}
      },
      "source": [
        "# 과제2 - linear regression 부분\n",
        "model2 = nn.Linear(input_size, output_size)\n",
        "print(model2.state_dict()) # random하게 나옴\n",
        "model2.load_state_dict(torch.load('model.ckpt'))\n",
        "print(model2.state_dict()['weight']) # 저장된 값이 나옴"
      ],
      "execution_count": 0,
      "outputs": []
    },
    {
      "cell_type": "markdown",
      "metadata": {
        "id": "L8Nh2gdcX7t7",
        "colab_type": "text"
      },
      "source": [
        "![LSTM 그림 설명](https://image.slidesharecdn.com/dlcvd2l6recurrentneuralnetworks-160802094750/95/deep-learning-for-computer-vision-recurrent-neural-networks-upc-2016-9-638.jpg?cb=1470131837)\n",
        "\n",
        "![대체 텍스트](https://nyanye.com/images/rnn2.png)\n",
        "\n",
        "![대체 텍스트](https://image.slidesharecdn.com/agistpurnndkim190430-190430140949/95/recurrent-neural-network-rnn-14-638.jpg?cb=1556635402)\n",
        "\n",
        "![대체 텍스트](https://discuss.pytorch.org/uploads/default/original/2X/f/fb98eb0d16b722e019db59f97825aa529cb6bc08.png)\n",
        "\n",
        "![대체 텍스트](https://image.slidesharecdn.com/automaticimagecaptiongenerator-160708051750/95/a-neural-image-caption-generator-11-638.jpg?cb=1467955312)\n",
        "\n",
        "![대체 텍스트](https://www.mdpi.com/water/water-11-01387/article_deploy/html/images/water-11-01387-g004.png)\n"
      ]
    }
  ]
}