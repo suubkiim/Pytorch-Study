{
  "nbformat": 4,
  "nbformat_minor": 0,
  "metadata": {
    "colab": {
      "name": "Bidirectional_RNN.ipynb",
      "provenance": [],
      "include_colab_link": true
    },
    "kernelspec": {
      "name": "python3",
      "display_name": "Python 3"
    }
  },
  "cells": [
    {
      "cell_type": "markdown",
      "metadata": {
        "id": "view-in-github",
        "colab_type": "text"
      },
      "source": [
        "<a href=\"https://colab.research.google.com/github/suubkiim/Pytorch-practice/blob/master/Bidirectional_RNN.ipynb\" target=\"_parent\"><img src=\"https://colab.research.google.com/assets/colab-badge.svg\" alt=\"Open In Colab\"/></a>"
      ]
    },
    {
      "cell_type": "markdown",
      "metadata": {
        "id": "6cbPCQyvPksh",
        "colab_type": "text"
      },
      "source": [
        "![대체 텍스트](https://miro.medium.com/max/764/1*6QnPUSv_t9BY9Fv8_aLb-Q.png)\n",
        "![대체 텍스트](https://miro.medium.com/max/1200/1*PB5HXSXOGJrnDa_Si4nj9Q.png)"
      ]
    },
    {
      "cell_type": "code",
      "metadata": {
        "id": "qWm_nFu1KsXX",
        "colab_type": "code",
        "outputId": "734e31f1-4e45-49af-9769-76e5b3cd03ee",
        "colab": {
          "base_uri": "https://localhost:8080/",
          "height": 248
        }
      },
      "source": [
        "import torch \n",
        "import torch.nn as nn\n",
        "import torchvision\n",
        "import torchvision.transforms as transforms\n",
        "\n",
        "\n",
        "# Device configuration\n",
        "device = torch.device('cuda' if torch.cuda.is_available() else 'cpu')\n",
        "\n",
        "# Hyper-parameters\n",
        "sequence_length = 28\n",
        "input_size = 28\n",
        "hidden_size = 128  # 2배 \n",
        "num_layers = 2  # 2배 \n",
        "num_classes = 10\n",
        "batch_size = 100\n",
        "num_epochs = 2\n",
        "learning_rate = 0.003\n",
        "\n",
        "# MNIST dataset\n",
        "train_dataset = torchvision.datasets.MNIST(root='../../data/',\n",
        "                                           train=True, \n",
        "                                           transform=transforms.ToTensor(),\n",
        "                                           download=True)\n",
        "\n",
        "test_dataset = torchvision.datasets.MNIST(root='../../data/',\n",
        "                                          train=False, \n",
        "                                          transform=transforms.ToTensor())\n",
        "\n",
        "# Data loader\n",
        "train_loader = torch.utils.data.DataLoader(dataset=train_dataset,\n",
        "                                           batch_size=batch_size, \n",
        "                                           shuffle=True)\n",
        "\n",
        "test_loader = torch.utils.data.DataLoader(dataset=test_dataset,\n",
        "                                          batch_size=batch_size, \n",
        "                                          shuffle=False)\n",
        "\n",
        "# Bidirectional recurrent neural network (many-to-one)\n",
        "class BiRNN(nn.Module):\n",
        "    def __init__(self, input_size, hidden_size, num_layers, num_classes):\n",
        "        super(BiRNN, self).__init__()\n",
        "        self.hidden_size = hidden_size\n",
        "        self.num_layers = num_layers\n",
        "        self.lstm = nn.LSTM(input_size, hidden_size, num_layers, batch_first=True, bidirectional=True)\n",
        "        # bidirectional=True인 경우 Bidirectional RNN // False인 경우, RNN.\n",
        "        # if you specify bidirectional=True, pytorch will do the rest. \n",
        "        # The output will be (seq length, batch, hidden_size * 2) \n",
        "        # where the hidden_size * 2 features are the forward features concatenated with the backward features.\n",
        "        self.fc = nn.Linear(hidden_size*2, num_classes)  # 2 for bidirection\n",
        "    \n",
        "    def forward(self, x):\n",
        "        # Set initial states\n",
        "        h0 = torch.zeros(self.num_layers*2, x.size(0), self.hidden_size).to(device) # 2 for bidirection \n",
        "        c0 = torch.zeros(self.num_layers*2, x.size(0), self.hidden_size).to(device)\n",
        "        \n",
        "        # Forward propagate LSTM\n",
        "        out, _ = self.lstm(x, (h0, c0))  # out: tensor of shape (batch_size, seq_length, hidden_size*2)\n",
        "        \n",
        "        # Decode the hidden state of the last time step\n",
        "        # out.size() ==> torch.Size([100, 28, 256])\n",
        "        # out[:, -1, :].size() ==> torch.Size([100, 256]) -> 각 원소의 맨 마지막 행만 선택\n",
        "        out = self.fc(out[:, -1, :])  # -1에 해당하는 부분만 남음 100 *128 이 남음\n",
        "        # ouself.fc(out[:, -1, :])t.size() ==> torch.Size([100, 10]) \n",
        "        return out\n",
        "\n",
        "model = BiRNN(input_size, hidden_size, num_layers, num_classes).to(device)\n",
        "\n",
        "\n",
        "# Loss and optimizer\n",
        "criterion = nn.CrossEntropyLoss()\n",
        "optimizer = torch.optim.Adam(model.parameters(), lr=learning_rate)\n",
        "    \n",
        "# Train the model\n",
        "total_step = len(train_loader)\n",
        "for epoch in range(num_epochs):\n",
        "    for i, (images, labels) in enumerate(train_loader): #enumerate : 각 element와 그 index 쌍을 (index, element)로 반환해 주는 함수\n",
        "        images = images.reshape(-1, sequence_length, input_size).to(device)\n",
        "        labels = labels.to(device)\n",
        "        \n",
        "        # Forward pass\n",
        "        outputs = model(images)\n",
        "        loss = criterion(outputs, labels)\n",
        "        \n",
        "        # Backward and optimize\n",
        "        optimizer.zero_grad()\n",
        "        loss.backward()\n",
        "        optimizer.step()\n",
        "        \n",
        "        if (i+1) % 100 == 0:\n",
        "            print ('Epoch [{}/{}], Step [{}/{}], Loss: {:.4f}' \n",
        "                   .format(epoch+1, num_epochs, i+1, total_step, loss.item()))\n",
        "\n",
        "# Test the model\n",
        "with torch.no_grad():\n",
        "    correct = 0\n",
        "    total = 0\n",
        "    for images, labels in test_loader:\n",
        "        images = images.reshape(-1, sequence_length, input_size).to(device)\n",
        "        labels = labels.to(device)\n",
        "        outputs = model(images)\n",
        "        _, predicted = torch.max(outputs.data, 1)\n",
        "        total += labels.size(0)\n",
        "        correct += (predicted == labels).sum().item()\n",
        "\n",
        "    print('Test Accuracy of the model on the 10000 test images: {} %'.format(100 * correct / total)) \n",
        "\n",
        "# Save the model checkpoint\n",
        "torch.save(model.state_dict(), 'model.ckpt')"
      ],
      "execution_count": 0,
      "outputs": [
        {
          "output_type": "stream",
          "text": [
            "Epoch [1/2], Step [100/600], Loss: 0.6745\n",
            "Epoch [1/2], Step [200/600], Loss: 0.4328\n",
            "Epoch [1/2], Step [300/600], Loss: 0.2818\n",
            "Epoch [1/2], Step [400/600], Loss: 0.1967\n",
            "Epoch [1/2], Step [500/600], Loss: 0.0741\n",
            "Epoch [1/2], Step [600/600], Loss: 0.1880\n",
            "Epoch [2/2], Step [100/600], Loss: 0.0357\n",
            "Epoch [2/2], Step [200/600], Loss: 0.2023\n",
            "Epoch [2/2], Step [300/600], Loss: 0.0717\n",
            "Epoch [2/2], Step [400/600], Loss: 0.1622\n",
            "Epoch [2/2], Step [500/600], Loss: 0.1493\n",
            "Epoch [2/2], Step [600/600], Loss: 0.0727\n",
            "Test Accuracy of the model on the 10000 test images: 97.88 %\n"
          ],
          "name": "stdout"
        }
      ]
    }
  ]
}